{
  "nbformat": 4,
  "nbformat_minor": 0,
  "metadata": {
    "colab": {
      "name": "Baleias_main_jan_30_2019.ipynb",
      "version": "0.3.2",
      "provenance": [],
      "collapsed_sections": [],
      "include_colab_link": true
    },
    "kernelspec": {
      "name": "python3",
      "display_name": "Python 3"
    }
  },
  "cells": [
    {
      "cell_type": "markdown",
      "metadata": {
        "id": "view-in-github",
        "colab_type": "text"
      },
      "source": [
        "<a href=\"https://colab.research.google.com/github/ucfilho/optim_raianars/blob/master/Baleias_main_jan_30_2019.ipynb\" target=\"_parent\"><img src=\"https://colab.research.google.com/assets/colab-badge.svg\" alt=\"Open In Colab\"/></a>"
      ]
    },
    {
      "metadata": {
        "id": "IL6rQCDkl3wK",
        "colab_type": "code",
        "colab": {}
      },
      "cell_type": "code",
      "source": [
        "import zipfile\n",
        "import os"
      ],
      "execution_count": 0,
      "outputs": []
    },
    {
      "metadata": {
        "id": "rnKWl0gWgEaw",
        "colab_type": "code",
        "colab": {
          "base_uri": "https://localhost:8080/",
          "height": 35
        },
        "outputId": "d0e4d54c-9d30-46df-a94b-21c27e8aeae0"
      },
      "cell_type": "code",
      "source": [
        "import numpy as np\n",
        "from random import randint\n",
        "print(\"hello world, I am envolving !!!!\")\n"
      ],
      "execution_count": 2,
      "outputs": [
        {
          "output_type": "stream",
          "text": [
            "hello world, I am envolving !!!!\n"
          ],
          "name": "stdout"
        }
      ]
    },
    {
      "metadata": {
        "id": "NK-X89s3l_KK",
        "colab_type": "code",
        "colab": {
          "base_uri": "https://localhost:8080/",
          "height": 54
        },
        "outputId": "9b0a4182-d095-4a07-b432-888941501922"
      },
      "cell_type": "code",
      "source": [
        "\n",
        "#Clona a pasta do github\n",
        "!git clone https://github.com/ucfilho/optim_raianars\n",
        "%cd optim_raianars"
      ],
      "execution_count": 3,
      "outputs": [
        {
          "output_type": "stream",
          "text": [
            "fatal: destination path 'optim_raianars' already exists and is not an empty directory.\n",
            "/content/optim_raianars\n"
          ],
          "name": "stdout"
        }
      ]
    },
    {
      "metadata": {
        "id": "zZtQAd22gq5k",
        "colab_type": "code",
        "colab": {}
      },
      "cell_type": "code",
      "source": [
        "import glob\n",
        "file_dir = \"/content\" # Enter Directory of all files\n",
        "data_path = os.path.join(file_dir,'*g')\n",
        "files = glob.glob(data_path)\n",
        "data = []\n",
        "for f1 in files:\n",
        "    import f1\n",
        "    data.append(f1)"
      ],
      "execution_count": 0,
      "outputs": []
    },
    {
      "metadata": {
        "id": "2MwRay3smRRO",
        "colab_type": "code",
        "colab": {}
      },
      "cell_type": "code",
      "source": [
        "FILE=\"Baleias_routinas_jan_30_2019.zip\"\n",
        "file_name = zipfile.ZipFile(FILE, 'r')\n",
        "file_name.extractall()"
      ],
      "execution_count": 0,
      "outputs": []
    },
    {
      "metadata": {
        "id": "rjbogRDBhcqd",
        "colab_type": "code",
        "colab": {}
      },
      "cell_type": "code",
      "source": [
        "import Fun, BEST, Enxame, FIT, FOBJ, Fun, Matriz_AC, New_X, WOA"
      ],
      "execution_count": 0,
      "outputs": []
    },
    {
      "metadata": {
        "id": "ifNp8fh1kkEM",
        "colab_type": "code",
        "colab": {
          "base_uri": "https://localhost:8080/",
          "height": 54
        },
        "outputId": "de234d28-f5a4-47ca-96c2-b6b83a55bb27"
      },
      "cell_type": "code",
      "source": [
        "# inicializa as variaveis, executa o metdo e imprime os resultados\n",
        "NPAR=100 #Baleias\n",
        "ITE=2000 #ITERACOES\n",
        "PAR=2 #NUM DE PARAMETROS A SER OTIMIZADOS\n",
        "MAX=[2,2] # MAXIMO DE CADA PARAMETRO\n",
        "MIN=[-2,-2] # MINIMO DE CADA PARAMETRO\n",
        "\n",
        "Best,ycal=WOA.WOA(ITE,PAR,NPAR,MAX,MIN)\n",
        "print(\"Baleias=\",NPAR,\"      Iteracoes=\",ITE,\"   x=\",Best,\"       fobj=\",ycal,\"\\n\")"
      ],
      "execution_count": 7,
      "outputs": [
        {
          "output_type": "stream",
          "text": [
            "Baleias= 100       Iteracoes= 2000    x= [1.00017858 1.00035458]        fobj= 3.256919559995731e-08 \n",
            "\n"
          ],
          "name": "stdout"
        }
      ]
    }
  ]
}