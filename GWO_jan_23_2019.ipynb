{
  "nbformat": 4,
  "nbformat_minor": 0,
  "metadata": {
    "colab": {
      "name": "GWO_jan_23_2019.ipynb",
      "version": "0.3.2",
      "provenance": [],
      "collapsed_sections": [],
      "include_colab_link": true
    },
    "kernelspec": {
      "display_name": "Python 3",
      "language": "python",
      "name": "python3"
    }
  },
  "cells": [
    {
      "cell_type": "markdown",
      "metadata": {
        "id": "view-in-github",
        "colab_type": "text"
      },
      "source": [
        "<a href=\"https://colab.research.google.com/github/ucfilho/optim_raianars/blob/master/GWO_jan_23_2019.ipynb\" target=\"_parent\"><img src=\"https://colab.research.google.com/assets/colab-badge.svg\" alt=\"Open In Colab\"/></a>"
      ]
    },
    {
      "metadata": {
        "id": "vfr-WJeoITG0",
        "colab_type": "code",
        "colab": {}
      },
      "cell_type": "code",
      "source": [
        "import numpy as np\n",
        "from random import randint"
      ],
      "execution_count": 0,
      "outputs": []
    },
    {
      "metadata": {
        "id": "EFxqMa6NjKVL",
        "colab_type": "code",
        "colab": {
          "base_uri": "https://localhost:8080/",
          "height": 55
        },
        "outputId": "702e2b13-dc7a-4777-955e-bf0ce590450d"
      },
      "cell_type": "code",
      "source": [
        "'''\n",
        "GWO - Gray Wolf Optimization\n",
        "O vetor X eh otimizado com X1, X2 e X3 associado as classes alfa, beta e delta\n",
        "O vetor a_k decai linearmente \n",
        "A matriz A_kp vai de para zero (o que gera um espiral de aproximacao)\n",
        "\n",
        "...\n",
        "It's a beautiful day \n",
        "Don't let it get away \n",
        "It's a beautiful day\n",
        "...\n",
        "\n",
        "'''"
      ],
      "execution_count": 2,
      "outputs": [
        {
          "output_type": "execute_result",
          "data": {
            "text/plain": [
              "\"\\nGWO - Gray Wolf Optimization\\nO vetor X eh otimizado com X1, X2 e X3 associado as classes alfa, beta e delta\\nO vetor a_k decai linearmente \\nA matriz A_kp vai de para zero (o que gera um espiral de aproximacao)\\n\\n...\\nIt's a beautiful day \\nDon't let it get away \\nIt's a beautiful day\\n...\\n\\n\""
            ]
          },
          "metadata": {
            "tags": []
          },
          "execution_count": 2
        }
      ]
    },
    {
      "metadata": {
        "id": "XnZITlaYITG_",
        "colab_type": "code",
        "colab": {}
      },
      "cell_type": "code",
      "source": [
        "'''Rosembrock Function'''\n",
        "def Fun(x):\n",
        "    fun=0\n",
        "    a=1.0\n",
        "    b=100.0\n",
        "    fun = (a-x[0])**2 + b*(x[1]-x[0]**2)**2\n",
        "    return fun"
      ],
      "execution_count": 0,
      "outputs": []
    },
    {
      "metadata": {
        "id": "NGpJGJlFITHE",
        "colab_type": "code",
        "colab": {}
      },
      "cell_type": "code",
      "source": [
        "''' \n",
        "FOBJ gera vetorialmente os valores com a funcao objetivo escalar\n",
        "em outras palavras gera para populacao o valor da funcao \n",
        "a ser otimizada\n",
        "'''\n",
        "def FOBJ(X):\n",
        "    rows = X.shape[0]\n",
        "    fobj=np.zeros(rows)\n",
        "    for i in range(rows):\n",
        "        fobj[i]=Fun(X[i,])\n",
        "    return fobj"
      ],
      "execution_count": 0,
      "outputs": []
    },
    {
      "metadata": {
        "id": "ASnJC2jQITHJ",
        "colab_type": "code",
        "colab": {}
      },
      "cell_type": "code",
      "source": [
        "'''Enxame retorna a populacao aleatoria com todos valores entre MIN e MAX'''\n",
        "def Enxame(PAR,NPAR,MAX,MIN):\n",
        "    x=np.zeros((NPAR, len(MAX)))\n",
        "    for j in range(len(MAX)):\n",
        "        for i in range(NPAR):\n",
        "            x[i,j]=MIN[j]+(MAX[j]-MIN[j])*np.random.random()\n",
        "    return x"
      ],
      "execution_count": 0,
      "outputs": []
    },
    {
      "metadata": {
        "id": "De1_VBasITHP",
        "colab_type": "code",
        "colab": {}
      },
      "cell_type": "code",
      "source": [
        "''' \n",
        "Fit ordena os vetores do que fornece MIN a MAX valor de FOBJ : \n",
        "        eh necessario para encontrar alfa, beta e delta (lobos)\n",
        "'''\n",
        "def FIT(X):\n",
        "    fit=np.argsort(X)\n",
        "    return fit"
      ],
      "execution_count": 0,
      "outputs": []
    },
    {
      "metadata": {
        "id": "ZlE0Of68ynkV",
        "colab_type": "code",
        "colab": {
          "base_uri": "https://localhost:8080/",
          "height": 308
        },
        "outputId": "a1051e9d-3215-4128-e894-7869ae0c2d1e"
      },
      "cell_type": "code",
      "source": [
        "NPAR=10 #PARTICULAS\n",
        "\n",
        "#ITE=1000 #ITERACOES\n",
        "PAR=2 #NUM DE PARAMETROS A SER OTIMIZADOS\n",
        "MAX=[2,2] # MAXIMO DE CADA PARAMETRO\n",
        "MIN=[-2,-2] # MINIMO DE CADA PARAMETRO\n",
        "x=Enxame(PAR,NPAR,MAX,MIN) # inicializa lobos\n",
        "ycal=FOBJ(x)\n",
        "Ind=FIT(ycal) # ajusta para encotrar os lobos alfa, beta e delta\n",
        "Alfa=Ind[0]\n",
        "Beta=Ind[1]\n",
        "Delta=Ind[2]\n",
        "print(x)\n",
        "print(ycal)\n",
        "print(Ind)\n",
        "print(ycal[Ind])\n",
        "print(Alfa,\"---\",Beta,\"----\",Delta)"
      ],
      "execution_count": 7,
      "outputs": [
        {
          "output_type": "stream",
          "text": [
            "[[-0.19664679 -1.46092816]\n",
            " [ 0.800534    0.02582248]\n",
            " [ 1.27113036  0.47831278]\n",
            " [-0.0496345   1.14083307]\n",
            " [ 1.7165521  -1.27196966]\n",
            " [-0.68056778 -0.09238502]\n",
            " [-1.52245169  0.20291189]\n",
            " [-1.01121196  0.3050429 ]\n",
            " [ 0.79554466 -1.08052895]\n",
            " [-1.96256792 -1.13329902]]\n",
            "[ 226.31141443   37.86624755  129.45495151  130.69024051 1780.10519406\n",
            "   33.68872319  453.66295153   55.52656462  293.62269994 2493.77127038]\n",
            "[5 1 7 2 3 0 8 6 4 9]\n",
            "[  33.68872319   37.86624755   55.52656462  129.45495151  130.69024051\n",
            "  226.31141443  293.62269994  453.66295153 1780.10519406 2493.77127038]\n",
            "5 --- 1 ---- 7\n"
          ],
          "name": "stdout"
        }
      ]
    },
    {
      "metadata": {
        "id": "vJcEYWtRITHy",
        "colab_type": "code",
        "colab": {
          "base_uri": "https://localhost:8080/",
          "height": 55
        },
        "outputId": "6347506f-dae9-4a7d-ec92-49e5055e404a"
      },
      "cell_type": "code",
      "source": [
        "\n",
        "'''\n",
        "Metodo que alterna e coordena o uso employers,onlooker, scout bees\n",
        "e greedy search\n",
        "\n",
        "'''\n",
        "'''def ABCOPtim(ITE,PAR,ntrail,NPAR,MAX,MIN):\n",
        "\n",
        "    trial=1 # inicializa contador p abandonar fonte de alimento\n",
        "    xbest=Enxame(PAR,1,MAX,MIN)[0,] #inicializa xbest\n",
        "    xo=Enxame(PAR,NPAR,MAX,MIN) # inicializa employed bee-parte 1\n",
        "    vbest_old=Fun(xbest)\n",
        "    vbest_new=Fun(xbest)\n",
        "    \n",
        "    for i in range(ITE):\n",
        "      x=Enxame(PAR,NPAR,MAX,MIN) # inicializa employed bee-parte 1\n",
        "      if(vbest_new==vbest_old):\n",
        "        trial=trial+1\n",
        "      if(trial==ntrail):\n",
        "        xo=Enxame(PAR,NPAR,MAX,MIN) # abandona a fonte de alimento antiga\n",
        "        trial=0\n",
        "      x_Employed=EmployedBee(xo,x,MAX,MIN)\n",
        "      xbest=GetBest(x_Employed,xbest)\n",
        "      vbest_new=Fun(xbest)\n",
        "      xo=Enxame(PAR,NPAR,MAX,MIN) # inicializa OnlookerBee\n",
        "      x_Onlooker=OnlookerBee(xo,x_Employed)\n",
        "      xbest=GetBest(x_Onlooker,xbest)\n",
        "      x_Scout=Enxame(PAR,NPAR,MAX,MIN) # inicializa ScoutBee ( a rigor so esta linha basta)\n",
        "      xbest=GetBest(x_Scout,xbest)\n",
        "    return xbest  '''"
      ],
      "execution_count": 8,
      "outputs": [
        {
          "output_type": "execute_result",
          "data": {
            "text/plain": [
              "'def ABCOPtim(ITE,PAR,ntrail,NPAR,MAX,MIN):\\n\\n    trial=1 # inicializa contador p abandonar fonte de alimento\\n    xbest=Enxame(PAR,1,MAX,MIN)[0,] #inicializa xbest\\n    xo=Enxame(PAR,NPAR,MAX,MIN) # inicializa employed bee-parte 1\\n    vbest_old=Fun(xbest)\\n    vbest_new=Fun(xbest)\\n    \\n    for i in range(ITE):\\n      x=Enxame(PAR,NPAR,MAX,MIN) # inicializa employed bee-parte 1\\n      if(vbest_new==vbest_old):\\n        trial=trial+1\\n      if(trial==ntrail):\\n        xo=Enxame(PAR,NPAR,MAX,MIN) # abandona a fonte de alimento antiga\\n        trial=0\\n      x_Employed=EmployedBee(xo,x,MAX,MIN)\\n      xbest=GetBest(x_Employed,xbest)\\n      vbest_new=Fun(xbest)\\n      xo=Enxame(PAR,NPAR,MAX,MIN) # inicializa OnlookerBee\\n      x_Onlooker=OnlookerBee(xo,x_Employed)\\n      xbest=GetBest(x_Onlooker,xbest)\\n      x_Scout=Enxame(PAR,NPAR,MAX,MIN) # inicializa ScoutBee ( a rigor so esta linha basta)\\n      xbest=GetBest(x_Scout,xbest)\\n    return xbest  '"
            ]
          },
          "metadata": {
            "tags": []
          },
          "execution_count": 8
        }
      ]
    },
    {
      "metadata": {
        "id": "P34n3mljITH2",
        "colab_type": "code",
        "outputId": "f9f6b350-bb0b-4992-bf7f-cd5528d1fa33",
        "colab": {
          "base_uri": "https://localhost:8080/",
          "height": 55
        }
      },
      "cell_type": "code",
      "source": [
        "'''NPAR=100 #PARTICULAS\n",
        "ITE=1000 #ITERACOES\n",
        "PAR=2 #NUM DE PARAMETROS A SER OTIMIZADOS\n",
        "MAX=[2,2] # MAXIMO DE CADA PARAMETRO\n",
        "MIN=[-2,-2] # MINIMO DE CADA PARAMETRO\n",
        "ntrail=100 #numero de buscas ate abandonar uma fonte de alimento\n",
        "\n",
        "for i in range(6):\n",
        "    print(\"resolucao\",i+1,\" \")\n",
        "    xbest=ABCOPtim(ITE,PAR,ntrail,NPAR,MAX,MIN)\n",
        "    print(\"vetor\",xbest,\"funcao\", Fun(xbest),\"\\n\")'''"
      ],
      "execution_count": 9,
      "outputs": [
        {
          "output_type": "execute_result",
          "data": {
            "text/plain": [
              "'NPAR=100 #PARTICULAS\\nITE=1000 #ITERACOES\\nPAR=2 #NUM DE PARAMETROS A SER OTIMIZADOS\\nMAX=[2,2] # MAXIMO DE CADA PARAMETRO\\nMIN=[-2,-2] # MINIMO DE CADA PARAMETRO\\nntrail=100 #numero de buscas ate abandonar uma fonte de alimento\\n\\nfor i in range(6):\\n    print(\"resolucao\",i+1,\" \")\\n    xbest=ABCOPtim(ITE,PAR,ntrail,NPAR,MAX,MIN)\\n    print(\"vetor\",xbest,\"funcao\", Fun(xbest),\"\\n\")'"
            ]
          },
          "metadata": {
            "tags": []
          },
          "execution_count": 9
        }
      ]
    }
  ]
}