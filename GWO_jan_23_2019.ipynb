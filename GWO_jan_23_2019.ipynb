{
  "nbformat": 4,
  "nbformat_minor": 0,
  "metadata": {
    "colab": {
      "name": "GWO_jan_23_2019.ipynb",
      "version": "0.3.2",
      "provenance": [],
      "collapsed_sections": [],
      "include_colab_link": true
    },
    "kernelspec": {
      "display_name": "Python 3",
      "language": "python",
      "name": "python3"
    }
  },
  "cells": [
    {
      "cell_type": "markdown",
      "metadata": {
        "id": "view-in-github",
        "colab_type": "text"
      },
      "source": [
        "<a href=\"https://colab.research.google.com/github/ucfilho/optim_raianars/blob/master/GWO_jan_23_2019.ipynb\" target=\"_parent\"><img src=\"https://colab.research.google.com/assets/colab-badge.svg\" alt=\"Open In Colab\"/></a>"
      ]
    },
    {
      "metadata": {
        "id": "vfr-WJeoITG0",
        "colab_type": "code",
        "colab": {}
      },
      "cell_type": "code",
      "source": [
        "import numpy as np\n",
        "from random import randint"
      ],
      "execution_count": 0,
      "outputs": []
    },
    {
      "metadata": {
        "id": "EFxqMa6NjKVL",
        "colab_type": "code",
        "colab": {
          "base_uri": "https://localhost:8080/",
          "height": 55
        },
        "outputId": "f8b7f52c-be66-4d4b-bc5e-f9ea3ac76dd7"
      },
      "cell_type": "code",
      "source": [
        "'''\n",
        "GWO - Gray Wolf Optimization\n",
        "O vetor X eh otimizado com X1, X2 e X3 associado as classes alfa, beta e delta\n",
        "O vetor a_k decai linearmente \n",
        "A matriz A_kp vai de para zero (o que gera um espiral de aproximacao)\n",
        "\n",
        "...\n",
        "It's a beautiful day \n",
        "Don't let it get away \n",
        "It's a beautiful day\n",
        "...\n",
        "\n",
        "'''"
      ],
      "execution_count": 2,
      "outputs": [
        {
          "output_type": "execute_result",
          "data": {
            "text/plain": [
              "\"\\nGWO - Gray Wolf Optimization\\nO vetor X eh otimizado com X1, X2 e X3 associado as classes alfa, beta e delta\\nO vetor a_k decai linearmente \\nA matriz A_kp vai de para zero (o que gera um espiral de aproximacao)\\n\\n...\\nIt's a beautiful day \\nDon't let it get away \\nIt's a beautiful day\\n...\\n\\n\""
            ]
          },
          "metadata": {
            "tags": []
          },
          "execution_count": 2
        }
      ]
    },
    {
      "metadata": {
        "id": "XnZITlaYITG_",
        "colab_type": "code",
        "colab": {}
      },
      "cell_type": "code",
      "source": [
        "'''Rosembrock Function'''\n",
        "def Fun(x):\n",
        "    fun=0\n",
        "    a=1.0\n",
        "    b=100.0\n",
        "    fun = (a-x[0])**2 + b*(x[1]-x[0]**2)**2\n",
        "    return fun"
      ],
      "execution_count": 0,
      "outputs": []
    },
    {
      "metadata": {
        "id": "NGpJGJlFITHE",
        "colab_type": "code",
        "colab": {}
      },
      "cell_type": "code",
      "source": [
        "''' \n",
        "FOBJ gera vetorialmente os valores com a funcao objetivo escalar\n",
        "em outras palavras gera para populacao o valor da funcao \n",
        "a ser otimizada\n",
        "'''\n",
        "def FOBJ(X):\n",
        "    rows = X.shape[0]\n",
        "    fobj=np.zeros(rows)\n",
        "    for i in range(rows):\n",
        "        fobj[i]=Fun(X[i,])\n",
        "    return fobj"
      ],
      "execution_count": 0,
      "outputs": []
    },
    {
      "metadata": {
        "id": "ASnJC2jQITHJ",
        "colab_type": "code",
        "colab": {}
      },
      "cell_type": "code",
      "source": [
        "'''Enxame retorna a populacao aleatoria com todos valores entre MIN e MAX'''\n",
        "def Enxame(PAR,NPAR,MAX,MIN):\n",
        "    x=np.zeros((NPAR, len(MAX)))\n",
        "    for j in range(len(MAX)):\n",
        "        for i in range(NPAR):\n",
        "            x[i,j]=MIN[j]+(MAX[j]-MIN[j])*np.random.random()\n",
        "    return x"
      ],
      "execution_count": 0,
      "outputs": []
    },
    {
      "metadata": {
        "id": "De1_VBasITHP",
        "colab_type": "code",
        "colab": {}
      },
      "cell_type": "code",
      "source": [
        "''' \n",
        "Fit ordena os vetores do que fornece MIN a MAX valor de FOBJ : \n",
        "        eh necessario para encontrar alfa, beta e delta (lobos)\n",
        "'''\n",
        "def FIT(X):\n",
        "    fit=np.argsort(X)\n",
        "    return fit"
      ],
      "execution_count": 0,
      "outputs": []
    },
    {
      "metadata": {
        "id": "ZlE0Of68ynkV",
        "colab_type": "code",
        "colab": {
          "base_uri": "https://localhost:8080/",
          "height": 308
        },
        "outputId": "f08d75fe-3a9a-43dc-8206-bd5de6185627"
      },
      "cell_type": "code",
      "source": [
        "NPAR=10 #Lobos\n",
        "\n",
        "#ITE=1000 #ITERACOES\n",
        "PAR=2 #NUM DE PARAMETROS A SER OTIMIZADOS\n",
        "MAX=[2,2] # MAXIMO DE CADA PARAMETRO\n",
        "MIN=[-2,-2] # MINIMO DE CADA PARAMETRO\n",
        "x=Enxame(PAR,NPAR,MAX,MIN) # inicializa lobos\n",
        "ycal=FOBJ(x)\n",
        "Ind=FIT(ycal) # ajusta para encontrar o indice dos os lobos alfa, beta e delta\n",
        "Alfa=x[Ind[0],]\n",
        "Beta=x[Ind[1],]\n",
        "Delta=x[Ind[2],]\n",
        "print(x)\n",
        "print(ycal)\n",
        "print(Ind)\n",
        "print(ycal[Ind])\n",
        "print(Alfa,\"---\",Beta,\"----\",Delta)"
      ],
      "execution_count": 7,
      "outputs": [
        {
          "output_type": "stream",
          "text": [
            "[[ 1.23150645 -0.81658927]\n",
            " [-1.94069889 -0.45749858]\n",
            " [ 0.32024783  1.40053315]\n",
            " [-0.47449342  0.778821  ]\n",
            " [ 1.39308223  0.48650423]\n",
            " [ 0.98815918 -1.19776135]\n",
            " [-0.12705136  0.25059013]\n",
            " [ 1.92776211 -1.03649415]\n",
            " [-0.61428623  0.35723876]\n",
            " [-0.40134338 -1.53861413]]\n",
            "[ 544.43461048 1792.70543168  168.93583756   32.82995308  211.61668072\n",
            "  472.72336772    6.76683516 2259.73437351    2.64635644  290.85859137]\n",
            "[8 6 3 2 4 9 5 0 1 7]\n",
            "[   2.64635644    6.76683516   32.82995308  168.93583756  211.61668072\n",
            "  290.85859137  472.72336772  544.43461048 1792.70543168 2259.73437351]\n",
            "[-0.61428623  0.35723876] --- [-0.12705136  0.25059013] ---- [-0.47449342  0.778821  ]\n"
          ],
          "name": "stdout"
        }
      ]
    },
    {
      "metadata": {
        "id": "vJcEYWtRITHy",
        "colab_type": "code",
        "colab": {
          "base_uri": "https://localhost:8080/",
          "height": 55
        },
        "outputId": "55ee6768-1432-4fab-8d72-acc6dbed1441"
      },
      "cell_type": "code",
      "source": [
        "\n",
        "'''\n",
        "Metodo que alterna e coordena o uso employers,onlooker, scout bees\n",
        "e greedy search\n",
        "\n",
        "'''\n",
        "'''def ABCOPtim(ITE,PAR,ntrail,NPAR,MAX,MIN):\n",
        "\n",
        "    trial=1 # inicializa contador p abandonar fonte de alimento\n",
        "    xbest=Enxame(PAR,1,MAX,MIN)[0,] #inicializa xbest\n",
        "    xo=Enxame(PAR,NPAR,MAX,MIN) # inicializa employed bee-parte 1\n",
        "    vbest_old=Fun(xbest)\n",
        "    vbest_new=Fun(xbest)\n",
        "    \n",
        "    for i in range(ITE):\n",
        "      x=Enxame(PAR,NPAR,MAX,MIN) # inicializa employed bee-parte 1\n",
        "      if(vbest_new==vbest_old):\n",
        "        trial=trial+1\n",
        "      if(trial==ntrail):\n",
        "        xo=Enxame(PAR,NPAR,MAX,MIN) # abandona a fonte de alimento antiga\n",
        "        trial=0\n",
        "      x_Employed=EmployedBee(xo,x,MAX,MIN)\n",
        "      xbest=GetBest(x_Employed,xbest)\n",
        "      vbest_new=Fun(xbest)\n",
        "      xo=Enxame(PAR,NPAR,MAX,MIN) # inicializa OnlookerBee\n",
        "      x_Onlooker=OnlookerBee(xo,x_Employed)\n",
        "      xbest=GetBest(x_Onlooker,xbest)\n",
        "      x_Scout=Enxame(PAR,NPAR,MAX,MIN) # inicializa ScoutBee ( a rigor so esta linha basta)\n",
        "      xbest=GetBest(x_Scout,xbest)\n",
        "    return xbest  '''"
      ],
      "execution_count": 8,
      "outputs": [
        {
          "output_type": "execute_result",
          "data": {
            "text/plain": [
              "'def ABCOPtim(ITE,PAR,ntrail,NPAR,MAX,MIN):\\n\\n    trial=1 # inicializa contador p abandonar fonte de alimento\\n    xbest=Enxame(PAR,1,MAX,MIN)[0,] #inicializa xbest\\n    xo=Enxame(PAR,NPAR,MAX,MIN) # inicializa employed bee-parte 1\\n    vbest_old=Fun(xbest)\\n    vbest_new=Fun(xbest)\\n    \\n    for i in range(ITE):\\n      x=Enxame(PAR,NPAR,MAX,MIN) # inicializa employed bee-parte 1\\n      if(vbest_new==vbest_old):\\n        trial=trial+1\\n      if(trial==ntrail):\\n        xo=Enxame(PAR,NPAR,MAX,MIN) # abandona a fonte de alimento antiga\\n        trial=0\\n      x_Employed=EmployedBee(xo,x,MAX,MIN)\\n      xbest=GetBest(x_Employed,xbest)\\n      vbest_new=Fun(xbest)\\n      xo=Enxame(PAR,NPAR,MAX,MIN) # inicializa OnlookerBee\\n      x_Onlooker=OnlookerBee(xo,x_Employed)\\n      xbest=GetBest(x_Onlooker,xbest)\\n      x_Scout=Enxame(PAR,NPAR,MAX,MIN) # inicializa ScoutBee ( a rigor so esta linha basta)\\n      xbest=GetBest(x_Scout,xbest)\\n    return xbest  '"
            ]
          },
          "metadata": {
            "tags": []
          },
          "execution_count": 8
        }
      ]
    },
    {
      "metadata": {
        "id": "P34n3mljITH2",
        "colab_type": "code",
        "outputId": "ecc846a7-2a9f-4eec-f6a0-952a97d2f2fc",
        "colab": {
          "base_uri": "https://localhost:8080/",
          "height": 55
        }
      },
      "cell_type": "code",
      "source": [
        "'''NPAR=100 #PARTICULAS\n",
        "ITE=1000 #ITERACOES\n",
        "PAR=2 #NUM DE PARAMETROS A SER OTIMIZADOS\n",
        "MAX=[2,2] # MAXIMO DE CADA PARAMETRO\n",
        "MIN=[-2,-2] # MINIMO DE CADA PARAMETRO\n",
        "ntrail=100 #numero de buscas ate abandonar uma fonte de alimento\n",
        "\n",
        "for i in range(6):\n",
        "    print(\"resolucao\",i+1,\" \")\n",
        "    xbest=ABCOPtim(ITE,PAR,ntrail,NPAR,MAX,MIN)\n",
        "    print(\"vetor\",xbest,\"funcao\", Fun(xbest),\"\\n\")'''"
      ],
      "execution_count": 9,
      "outputs": [
        {
          "output_type": "execute_result",
          "data": {
            "text/plain": [
              "'NPAR=100 #PARTICULAS\\nITE=1000 #ITERACOES\\nPAR=2 #NUM DE PARAMETROS A SER OTIMIZADOS\\nMAX=[2,2] # MAXIMO DE CADA PARAMETRO\\nMIN=[-2,-2] # MINIMO DE CADA PARAMETRO\\nntrail=100 #numero de buscas ate abandonar uma fonte de alimento\\n\\nfor i in range(6):\\n    print(\"resolucao\",i+1,\" \")\\n    xbest=ABCOPtim(ITE,PAR,ntrail,NPAR,MAX,MIN)\\n    print(\"vetor\",xbest,\"funcao\", Fun(xbest),\"\\n\")'"
            ]
          },
          "metadata": {
            "tags": []
          },
          "execution_count": 9
        }
      ]
    }
  ]
}