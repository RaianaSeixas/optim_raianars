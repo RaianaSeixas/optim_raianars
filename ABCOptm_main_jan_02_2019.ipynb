{
  "nbformat": 4,
  "nbformat_minor": 0,
  "metadata": {
    "colab": {
      "name": "ABCOptm_main_jan_02_2019.ipynb",
      "version": "0.3.2",
      "provenance": [],
      "collapsed_sections": [],
      "include_colab_link": true
    },
    "kernelspec": {
      "name": "python3",
      "display_name": "Python 3"
    }
  },
  "cells": [
    {
      "cell_type": "markdown",
      "metadata": {
        "id": "view-in-github",
        "colab_type": "text"
      },
      "source": [
        "<a href=\"https://colab.research.google.com/github/ucfilho/optim_raianars/blob/master/ABCOptm_main_jan_02_2019.ipynb\" target=\"_parent\"><img src=\"https://colab.research.google.com/assets/colab-badge.svg\" alt=\"Open In Colab\"/></a>"
      ]
    },
    {
      "metadata": {
        "id": "7Yo-MeQYXs0P",
        "colab_type": "code",
        "colab": {}
      },
      "cell_type": "code",
      "source": [
        "import zipfile\n",
        "import os"
      ],
      "execution_count": 0,
      "outputs": []
    },
    {
      "metadata": {
        "id": "7g0DqgDeG8Bd",
        "colab_type": "code",
        "outputId": "6d8d4530-db93-4753-c834-51a417f32e64",
        "colab": {
          "base_uri": "https://localhost:8080/",
          "height": 199
        }
      },
      "cell_type": "code",
      "source": [
        "\n",
        "#Clona a pasta do github\n",
        "!git clone https://github.com/ucfilho/optim_raianars\n",
        "%cd optim_raianars\n",
        "!ls"
      ],
      "execution_count": 2,
      "outputs": [
        {
          "output_type": "stream",
          "text": [
            "Cloning into 'optim_raianars'...\n",
            "remote: Enumerating objects: 70, done.\u001b[K\n",
            "remote: Counting objects: 100% (70/70), done.\u001b[K\n",
            "remote: Compressing objects: 100% (68/68), done.\u001b[K\n",
            "remote: Total 70 (delta 32), reused 0 (delta 0), pack-reused 0\u001b[K\n",
            "Unpacking objects: 100% (70/70), done.\n",
            "/content/optim_raianars\n",
            "ABCOptim_jan_02_2019.ipynb\t  PSO_main_dez_12_2018.ipynb\n",
            "ABCOptm_main_jan_02_2019.ipynb\t  PSO_routines_dez_12_2018.zip\n",
            "ABCOptm_routines_jan_02_2019.zip  README.md\n"
          ],
          "name": "stdout"
        }
      ]
    },
    {
      "metadata": {
        "id": "O-PEDI5qW3V2",
        "colab_type": "code",
        "outputId": "f430f1f2-a96c-49ad-83d2-d477880630f0",
        "colab": {
          "base_uri": "https://localhost:8080/",
          "height": 72
        }
      },
      "cell_type": "code",
      "source": [
        "!ls"
      ],
      "execution_count": 3,
      "outputs": [
        {
          "output_type": "stream",
          "text": [
            "ABCOptim_jan_02_2019.ipynb\t  PSO_main_dez_12_2018.ipynb\n",
            "ABCOptm_main_jan_02_2019.ipynb\t  PSO_routines_dez_12_2018.zip\n",
            "ABCOptm_routines_jan_02_2019.zip  README.md\n"
          ],
          "name": "stdout"
        }
      ]
    },
    {
      "metadata": {
        "id": "HoHThPRGYWV_",
        "colab_type": "code",
        "colab": {}
      },
      "cell_type": "code",
      "source": [
        "import glob\n",
        "file_dir = \"/content\" # Enter Directory of all files\n",
        "data_path = os.path.join(file_dir,'*g')\n",
        "files = glob.glob(data_path)\n",
        "data = []\n",
        "for f1 in files:\n",
        "    import f1\n",
        "    data.append(f1)"
      ],
      "execution_count": 0,
      "outputs": []
    },
    {
      "metadata": {
        "id": "tqR6FCNnXEEL",
        "colab_type": "code",
        "colab": {}
      },
      "cell_type": "code",
      "source": [
        "FILE=\"ABCOptm_routines_jan_02_2019.zip\"\n",
        "file_name = zipfile.ZipFile(FILE, 'r')\n",
        "file_name.extractall() \n"
      ],
      "execution_count": 0,
      "outputs": []
    },
    {
      "metadata": {
        "id": "LYPkQ_muZ-A3",
        "colab_type": "code",
        "colab": {
          "base_uri": "https://localhost:8080/",
          "height": 126
        },
        "outputId": "bc991882-d52c-472f-bdd9-a25ab147365f"
      },
      "cell_type": "code",
      "source": [
        "!ls"
      ],
      "execution_count": 6,
      "outputs": [
        {
          "output_type": "stream",
          "text": [
            "ABCOptim_jan_02_2019.ipynb\t  Enxame.py\t  PROB.py\n",
            "ABCOPtim_main_jan_02_2019.py\t  FIT.py\t  PSO_main_dez_12_2018.ipynb\n",
            "ABCOPtim.py\t\t\t  FOBJ.py\t  PSO_routines_dez_12_2018.zip\n",
            "ABCOptm_main_jan_02_2019.ipynb\t  Fun.py\t  README.md\n",
            "ABCOptm_routines_jan_02_2019.zip  GetBest.py\t  ScoutBee.py\n",
            "EmployedBee.py\t\t\t  OnlookerBee.py\n"
          ],
          "name": "stdout"
        }
      ]
    },
    {
      "metadata": {
        "id": "X4_VyCWaXZQS",
        "colab_type": "code",
        "colab": {}
      },
      "cell_type": "code",
      "source": [
        "import numpy as np\n",
        "import ABCOPtim\n",
        "import EmployedBee\n",
        "import Enxame\n",
        "import FIT\n",
        "import FOBJ\n",
        "import Fun\n",
        "import GetBest\n",
        "import OnlookerBee\n",
        "import PROB\n",
        "import ScoutBee\n"
      ],
      "execution_count": 0,
      "outputs": []
    },
    {
      "metadata": {
        "id": "U_fDgh--JUTK",
        "colab_type": "code",
        "colab": {
          "base_uri": "https://localhost:8080/",
          "height": 345
        },
        "outputId": "ed8a7ec0-a3cd-4b1a-b223-2b9cf7f90040"
      },
      "cell_type": "code",
      "source": [
        "\"\"\"\n",
        "Created on Wed Jan 03 2019\n",
        "@author: ucfilho\n",
        "\"\"\"\n",
        "\n",
        "\n",
        "\n",
        "NPAR=30 #PARTICULAS\n",
        "ITE=300 #ITERACOES\n",
        "PAR=2 #NUM DE PARAMETROS A SER OTIMIZADOS\n",
        "MAX=[2,2] # MAXIMO DE CADA PARAMETRO\n",
        "MIN=[-2,-2] # MINIMO DE CADA PARAMETRO\n",
        "ntrail=25 #numero de buscas ate abandonar uma fonte de alimento\n",
        "\n",
        "for i in range(6):\n",
        "    print(\"resolucao\",i+1,\" \")\n",
        "    xbest=ABCOPtim.ABC(ITE,PAR,ntrail,NPAR,MAX,MIN)\n",
        "    print(\"vetor\",xbest,\"funcao\", Fun.Fun(xbest),\"\\n\")\n"
      ],
      "execution_count": 8,
      "outputs": [
        {
          "output_type": "stream",
          "text": [
            "resolucao 1  \n",
            "vetor [1.0044603  1.00729119] funcao 0.0002919137775019228 \n",
            "\n",
            "resolucao 2  \n",
            "vetor [1.02014273 1.04187134] funcao 0.0005450049548123537 \n",
            "\n",
            "resolucao 3  \n",
            "vetor [0.97909223 0.96348771] funcao 0.002805045184322698 \n",
            "\n",
            "resolucao 4  \n",
            "vetor [0.98531595 0.96710291] funcao 0.0016178316483240025 \n",
            "\n",
            "resolucao 5  \n",
            "vetor [0.98820485 0.98121077] funcao 0.0023124984185144853 \n",
            "\n",
            "resolucao 6  \n",
            "vetor [0.98109763 0.96107095] funcao 0.0005768171380378116 \n",
            "\n"
          ],
          "name": "stdout"
        }
      ]
    }
  ]
}