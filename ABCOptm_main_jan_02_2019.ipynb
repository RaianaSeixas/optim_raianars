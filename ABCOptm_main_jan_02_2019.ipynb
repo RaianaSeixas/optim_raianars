{
  "nbformat": 4,
  "nbformat_minor": 0,
  "metadata": {
    "colab": {
      "name": "ABCOptm_main_jan_02_2019.ipynb",
      "version": "0.3.2",
      "provenance": [],
      "collapsed_sections": [],
      "include_colab_link": true
    },
    "kernelspec": {
      "name": "python3",
      "display_name": "Python 3"
    }
  },
  "cells": [
    {
      "cell_type": "markdown",
      "metadata": {
        "id": "view-in-github",
        "colab_type": "text"
      },
      "source": [
        "<a href=\"https://colab.research.google.com/github/ucfilho/optim_raianars/blob/master/ABCOptm_main_jan_02_2019.ipynb\" target=\"_parent\"><img src=\"https://colab.research.google.com/assets/colab-badge.svg\" alt=\"Open In Colab\"/></a>"
      ]
    },
    {
      "metadata": {
        "id": "7Yo-MeQYXs0P",
        "colab_type": "code",
        "colab": {}
      },
      "cell_type": "code",
      "source": [
        "import zipfile\n",
        "import os"
      ],
      "execution_count": 0,
      "outputs": []
    },
    {
      "metadata": {
        "id": "7g0DqgDeG8Bd",
        "colab_type": "code",
        "outputId": "3b6b11e5-80ab-49dc-e5a6-daffe04b01f8",
        "colab": {
          "base_uri": "https://localhost:8080/",
          "height": 163
        }
      },
      "cell_type": "code",
      "source": [
        "\n",
        "#Clona a pasta do github\n",
        "!git clone https://github.com/ucfilho/optim_raianars\n",
        "%cd optim_raianars\n",
        "!ls"
      ],
      "execution_count": 2,
      "outputs": [
        {
          "output_type": "stream",
          "text": [
            "fatal: destination path 'optim_raianars' already exists and is not an empty directory.\n",
            "/content/optim_raianars\n",
            "ABCOptim_jan_02_2019.ipynb\t  FIT.py\t  PSO_main_dez_12_2018.ipynb\n",
            "ABCOPtim_main_jan_02_2019.py\t  FOBJ.py\t  PSO_routines_dez_12_2018.zip\n",
            "ABCOPtim.py\t\t\t  Fun.py\t  README.md\n",
            "ABCOptm_routines_jan_02_2018.zip  GetBest.py\t  ScoutBee.py\n",
            "EmployedBee.py\t\t\t  OnlookerBee.py\n",
            "Enxame.py\t\t\t  PROB.py\n"
          ],
          "name": "stdout"
        }
      ]
    },
    {
      "metadata": {
        "id": "O-PEDI5qW3V2",
        "colab_type": "code",
        "outputId": "5d879cdb-34eb-4cc5-c13d-a587d13836b8",
        "colab": {
          "base_uri": "https://localhost:8080/",
          "height": 126
        }
      },
      "cell_type": "code",
      "source": [
        "!ls"
      ],
      "execution_count": 3,
      "outputs": [
        {
          "output_type": "stream",
          "text": [
            "ABCOptim_jan_02_2019.ipynb\t  FIT.py\t  PSO_main_dez_12_2018.ipynb\n",
            "ABCOPtim_main_jan_02_2019.py\t  FOBJ.py\t  PSO_routines_dez_12_2018.zip\n",
            "ABCOPtim.py\t\t\t  Fun.py\t  README.md\n",
            "ABCOptm_routines_jan_02_2018.zip  GetBest.py\t  ScoutBee.py\n",
            "EmployedBee.py\t\t\t  OnlookerBee.py\n",
            "Enxame.py\t\t\t  PROB.py\n"
          ],
          "name": "stdout"
        }
      ]
    },
    {
      "metadata": {
        "id": "HoHThPRGYWV_",
        "colab_type": "code",
        "colab": {}
      },
      "cell_type": "code",
      "source": [
        "import glob\n",
        "file_dir = \"/content\" # Enter Directory of all files\n",
        "data_path = os.path.join(file_dir,'*g')\n",
        "files = glob.glob(data_path)\n",
        "data = []\n",
        "for f1 in files:\n",
        "    import f1\n",
        "    data.append(f1)"
      ],
      "execution_count": 0,
      "outputs": []
    },
    {
      "metadata": {
        "id": "tqR6FCNnXEEL",
        "colab_type": "code",
        "colab": {
          "base_uri": "https://localhost:8080/",
          "height": 335
        },
        "outputId": "f5f682dd-3a46-4b4b-bfdc-822529f57161"
      },
      "cell_type": "code",
      "source": [
        "FILE=\"ABCOptm_routines_jan_02_2019.zip\"\n",
        "file_name = zipfile.ZipFile(FILE, 'r')\n",
        "file_name.extractall() \n"
      ],
      "execution_count": 5,
      "outputs": [
        {
          "output_type": "error",
          "ename": "FileNotFoundError",
          "evalue": "ignored",
          "traceback": [
            "\u001b[0;31m---------------------------------------------------------------------------\u001b[0m",
            "\u001b[0;31mFileNotFoundError\u001b[0m                         Traceback (most recent call last)",
            "\u001b[0;32m<ipython-input-5-d58ccc827ba3>\u001b[0m in \u001b[0;36m<module>\u001b[0;34m()\u001b[0m\n\u001b[1;32m      1\u001b[0m \u001b[0mFILE\u001b[0m\u001b[0;34m=\u001b[0m\u001b[0;34m\"ABCOptm_routines_jan_02_2019.zip\"\u001b[0m\u001b[0;34m\u001b[0m\u001b[0;34m\u001b[0m\u001b[0m\n\u001b[0;32m----> 2\u001b[0;31m \u001b[0mfile_name\u001b[0m \u001b[0;34m=\u001b[0m \u001b[0mzipfile\u001b[0m\u001b[0;34m.\u001b[0m\u001b[0mZipFile\u001b[0m\u001b[0;34m(\u001b[0m\u001b[0mFILE\u001b[0m\u001b[0;34m,\u001b[0m \u001b[0;34m'r'\u001b[0m\u001b[0;34m)\u001b[0m\u001b[0;34m\u001b[0m\u001b[0;34m\u001b[0m\u001b[0m\n\u001b[0m\u001b[1;32m      3\u001b[0m \u001b[0mfile_name\u001b[0m\u001b[0;34m.\u001b[0m\u001b[0mextractall\u001b[0m\u001b[0;34m(\u001b[0m\u001b[0;34m)\u001b[0m\u001b[0;34m\u001b[0m\u001b[0;34m\u001b[0m\u001b[0m\n",
            "\u001b[0;32m/usr/lib/python3.6/zipfile.py\u001b[0m in \u001b[0;36m__init__\u001b[0;34m(self, file, mode, compression, allowZip64)\u001b[0m\n\u001b[1;32m   1111\u001b[0m             \u001b[0;32mwhile\u001b[0m \u001b[0;32mTrue\u001b[0m\u001b[0;34m:\u001b[0m\u001b[0;34m\u001b[0m\u001b[0;34m\u001b[0m\u001b[0m\n\u001b[1;32m   1112\u001b[0m                 \u001b[0;32mtry\u001b[0m\u001b[0;34m:\u001b[0m\u001b[0;34m\u001b[0m\u001b[0;34m\u001b[0m\u001b[0m\n\u001b[0;32m-> 1113\u001b[0;31m                     \u001b[0mself\u001b[0m\u001b[0;34m.\u001b[0m\u001b[0mfp\u001b[0m \u001b[0;34m=\u001b[0m \u001b[0mio\u001b[0m\u001b[0;34m.\u001b[0m\u001b[0mopen\u001b[0m\u001b[0;34m(\u001b[0m\u001b[0mfile\u001b[0m\u001b[0;34m,\u001b[0m \u001b[0mfilemode\u001b[0m\u001b[0;34m)\u001b[0m\u001b[0;34m\u001b[0m\u001b[0;34m\u001b[0m\u001b[0m\n\u001b[0m\u001b[1;32m   1114\u001b[0m                 \u001b[0;32mexcept\u001b[0m \u001b[0mOSError\u001b[0m\u001b[0;34m:\u001b[0m\u001b[0;34m\u001b[0m\u001b[0;34m\u001b[0m\u001b[0m\n\u001b[1;32m   1115\u001b[0m                     \u001b[0;32mif\u001b[0m \u001b[0mfilemode\u001b[0m \u001b[0;32min\u001b[0m \u001b[0mmodeDict\u001b[0m\u001b[0;34m:\u001b[0m\u001b[0;34m\u001b[0m\u001b[0;34m\u001b[0m\u001b[0m\n",
            "\u001b[0;31mFileNotFoundError\u001b[0m: [Errno 2] No such file or directory: 'ABCOptm_routines_jan_02_2019.zip'"
          ]
        }
      ]
    },
    {
      "metadata": {
        "id": "LYPkQ_muZ-A3",
        "colab_type": "code",
        "colab": {}
      },
      "cell_type": "code",
      "source": [
        "!ls"
      ],
      "execution_count": 0,
      "outputs": []
    },
    {
      "metadata": {
        "id": "X4_VyCWaXZQS",
        "colab_type": "code",
        "colab": {}
      },
      "cell_type": "code",
      "source": [
        "import numpy as np\n",
        "import ABCOPtim\n",
        "import EmployedBee\n",
        "import Enxame\n",
        "import FIT\n",
        "import FOBJ\n",
        "import Fun\n",
        "import GetBest\n",
        "import OnlookerBee\n",
        "import PROB\n",
        "import ScoutBee\n"
      ],
      "execution_count": 0,
      "outputs": []
    },
    {
      "metadata": {
        "id": "U_fDgh--JUTK",
        "colab_type": "code",
        "colab": {}
      },
      "cell_type": "code",
      "source": [
        "\"\"\"\n",
        "Created on Wed Jan 03 2019\n",
        "@author: ucfilho\n",
        "\"\"\"\n",
        "\n",
        "\n",
        "\n",
        "NPAR=30 #PARTICULAS\n",
        "ITE=300 #ITERACOES\n",
        "PAR=2 #NUM DE PARAMETROS A SER OTIMIZADOS\n",
        "MAX=[2,2] # MAXIMO DE CADA PARAMETRO\n",
        "MIN=[-2,-2] # MINIMO DE CADA PARAMETRO\n",
        "ntrail=25 #numero de buscas ate abandonar uma fonte de alimento\n",
        "\n",
        "for i in range(6):\n",
        "    print(\"resolucao\",i+1,\" \")\n",
        "    xbest=ABCOPtim.ABC(ITE,PAR,ntrail,NPAR,MAX,MIN)\n",
        "    print(\"vetor\",xbest,\"funcao\", Fun.Fun(xbest),\"\\n\")\n"
      ],
      "execution_count": 0,
      "outputs": []
    }
  ]
}