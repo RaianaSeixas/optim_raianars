{
  "nbformat": 4,
  "nbformat_minor": 0,
  "metadata": {
    "colab": {
      "name": "PSO_main_dez_06_2018.ipynb",
      "version": "0.3.2",
      "provenance": [],
      "collapsed_sections": [],
      "include_colab_link": true
    },
    "kernelspec": {
      "name": "python3",
      "display_name": "Python 3"
    }
  },
  "cells": [
    {
      "cell_type": "markdown",
      "metadata": {
        "id": "view-in-github",
        "colab_type": "text"
      },
      "source": [
        "<a href=\"https://colab.research.google.com/github/ucfilho/optim_raianars/blob/master/PSO_main_dez_12_2018.ipynb\" target=\"_parent\"><img src=\"https://colab.research.google.com/assets/colab-badge.svg\" alt=\"Open In Colab\"/></a>"
      ]
    },
    {
      "metadata": {
        "id": "7Yo-MeQYXs0P",
        "colab_type": "code",
        "colab": {}
      },
      "cell_type": "code",
      "source": [
        "import zipfile\n",
        "import os"
      ],
      "execution_count": 0,
      "outputs": []
    },
    {
      "metadata": {
        "id": "7g0DqgDeG8Bd",
        "colab_type": "code",
        "outputId": "2dd79f02-2e92-43d5-c7b7-b3258f388b0d",
        "colab": {
          "base_uri": "https://localhost:8080/",
          "height": 181
        }
      },
      "cell_type": "code",
      "source": [
        "\n",
        "#Clona a pasta do github\n",
        "!git clone https://github.com/ucfilho/thesis_advices\n",
        "%cd thesis_advices\n",
        "!ls"
      ],
      "execution_count": 2,
      "outputs": [
        {
          "output_type": "stream",
          "text": [
            "Cloning into 'thesis_advices'...\n",
            "remote: Enumerating objects: 86, done.\u001b[K\n",
            "remote: Total 86 (delta 0), reused 0 (delta 0), pack-reused 86\u001b[K\n",
            "Unpacking objects: 100% (86/86), done.\n",
            "/content/thesis_advices\n",
            "Colab_surfactante_ann_dez_16_2018.ipynb  PSO_main_dez_12_2018.ipynb\n",
            "Colab_surfactante_ann_dez_16_2018.zip\t PSO_routines_dez_12_2018.zip\n",
            "Dot_PY_ex_dez_18_2018.ipynb\t\t README.md\n",
            "Dot_PY_ex_dez_18_2018.zip\n"
          ],
          "name": "stdout"
        }
      ]
    },
    {
      "metadata": {
        "id": "O-PEDI5qW3V2",
        "colab_type": "code",
        "outputId": "de821166-d4e5-4e75-c868-c203da6283d5",
        "colab": {
          "base_uri": "https://localhost:8080/",
          "height": 90
        }
      },
      "cell_type": "code",
      "source": [
        "!ls"
      ],
      "execution_count": 3,
      "outputs": [
        {
          "output_type": "stream",
          "text": [
            "Colab_surfactante_ann_dez_16_2018.ipynb  PSO_main_dez_12_2018.ipynb\n",
            "Colab_surfactante_ann_dez_16_2018.zip\t PSO_routines_dez_12_2018.zip\n",
            "Dot_PY_ex_dez_18_2018.ipynb\t\t README.md\n",
            "Dot_PY_ex_dez_18_2018.zip\n"
          ],
          "name": "stdout"
        }
      ]
    },
    {
      "metadata": {
        "id": "HoHThPRGYWV_",
        "colab_type": "code",
        "colab": {}
      },
      "cell_type": "code",
      "source": [
        "import glob\n",
        "file_dir = \"/content\" # Enter Directory of all files\n",
        "data_path = os.path.join(file_dir,'*g')\n",
        "files = glob.glob(data_path)\n",
        "data = []\n",
        "for f1 in files:\n",
        "    import f1\n",
        "    data.append(f1)"
      ],
      "execution_count": 0,
      "outputs": []
    },
    {
      "metadata": {
        "id": "tqR6FCNnXEEL",
        "colab_type": "code",
        "colab": {}
      },
      "cell_type": "code",
      "source": [
        "FILE=\"PSO_routines_dez_12_2018.zip\"\n",
        "file_name = zipfile.ZipFile(FILE, 'r')\n",
        "file_name.extractall() \n"
      ],
      "execution_count": 0,
      "outputs": []
    },
    {
      "metadata": {
        "id": "LYPkQ_muZ-A3",
        "colab_type": "code",
        "outputId": "40ddaad3-f0e0-42a0-b77f-064a200a6baf",
        "colab": {
          "base_uri": "https://localhost:8080/",
          "height": 108
        }
      },
      "cell_type": "code",
      "source": [
        "!ls"
      ],
      "execution_count": 6,
      "outputs": [
        {
          "output_type": "stream",
          "text": [
            "Colab_surfactante_ann_dez_16_2018.ipynb  FOBJ.py   PSO_main_dez_12_2018.ipynb\n",
            "Colab_surfactante_ann_dez_16_2018.zip\t FUN.py    PSOnew.py\n",
            "Dot_PY_ex_dez_18_2018.ipynb\t\t GBEST.py  PSO_routines_dez_12_2018.zip\n",
            "Dot_PY_ex_dez_18_2018.zip\t\t PAR.py    README.md\n",
            "ENX.py\t\t\t\t\t PART.py   VEL.py\n"
          ],
          "name": "stdout"
        }
      ]
    },
    {
      "metadata": {
        "id": "X4_VyCWaXZQS",
        "colab_type": "code",
        "colab": {}
      },
      "cell_type": "code",
      "source": [
        "import numpy as np\n",
        "import ENX\n",
        "import FUN\n",
        "import PAR\n",
        "import PSOnew\n",
        "import FOBJ\n",
        "import GBEST\n",
        "import PART\n",
        "import VEL\n"
      ],
      "execution_count": 0,
      "outputs": []
    },
    {
      "metadata": {
        "id": "U_fDgh--JUTK",
        "colab_type": "code",
        "outputId": "795dd38d-eb70-4a8a-95a5-17fa2b5d5d6b",
        "colab": {
          "base_uri": "https://localhost:8080/",
          "height": 217
        }
      },
      "cell_type": "code",
      "source": [
        "\"\"\"\n",
        "Created on Wed Dec 12 2018\n",
        "@author: ucfilho\n",
        "\"\"\"\n",
        "\n",
        "\n",
        "W=0.75\n",
        "C1=2\n",
        "C2=2\n",
        "NPAR=100 #PARTICULAS\n",
        "ITE=100 #ITERACOES\n",
        "PAR=2 #NUM DE PARAMETROS A SER OTIMIZADOS\n",
        "MAX=[5,5] # MAXIMO DE CADA PARAMETRO\n",
        "MIN=[-4,-4] # MINIMO DE CADA PARAMETRO\n",
        "\n",
        "#resp=PSOnew.PSO(W,C1,C2,NPAR,ITE,PAR,MAX,MIN)\n",
        "resp,best=PSOnew.PSO(W,C1,C2,NPAR,ITE,PAR,MAX,MIN)\n",
        "\n",
        "for i in range(ITE):\n",
        "    if((i+1)%10==0):\n",
        "        print(\"iteracao=\",i+1,\"f obj=\",resp[i])\n",
        "print(best)\n"
      ],
      "execution_count": 8,
      "outputs": [
        {
          "output_type": "stream",
          "text": [
            "iteracao= 10 f obj= 20.148106713148863\n",
            "iteracao= 20 f obj= 0.02745382506198225\n",
            "iteracao= 30 f obj= 0.013696898936415975\n",
            "iteracao= 40 f obj= 0.00620485682190861\n",
            "iteracao= 50 f obj= 0.00099684940689057\n",
            "iteracao= 60 f obj= 0.0009223960512934402\n",
            "iteracao= 70 f obj= 0.0005031085196368079\n",
            "iteracao= 80 f obj= 8.199907262204645e-05\n",
            "iteracao= 90 f obj= 1.4312570387944182e-05\n",
            "iteracao= 100 f obj= 2.7599360749087167e-07\n",
            "[0.9995445470676582, 0.9991154848180793]\n"
          ],
          "name": "stdout"
        }
      ]
    }
  ]
}